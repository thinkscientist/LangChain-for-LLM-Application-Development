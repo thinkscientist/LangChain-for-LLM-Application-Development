{
 "cells": [
  {
   "attachments": {},
   "cell_type": "markdown",
   "id": "52824b89-532a-4e54-87e9-1410813cd39e",
   "metadata": {},
   "source": [
    "# LangChain: Q&A over Documents\n",
    "\n",
    "An example might be a tool that would allow you to query a product catalog for items of interest."
   ]
  },
  {
   "cell_type": "code",
   "execution_count": 1,
   "id": "10c1f7b9",
   "metadata": {
    "height": 29
   },
   "outputs": [],
   "source": [
    "# pip install --upgrade langchain"
   ]
  },
  {
   "cell_type": "code",
   "execution_count": 1,
   "id": "b7ed03ed-1322-49e3-b2a2-33e94fb592ef",
   "metadata": {
    "height": 80,
    "tags": []
   },
   "outputs": [],
   "source": [
    "import os\n",
    "\n",
    "from dotenv import load_dotenv, find_dotenv\n",
    "_ = load_dotenv(find_dotenv()) # read local .env file"
   ]
  },
  {
   "cell_type": "code",
   "execution_count": 2,
   "id": "974acf8e-8f88-42de-88f8-40a82cb58e8b",
   "metadata": {
    "height": 97
   },
   "outputs": [],
   "source": [
    "from langchain.chains import RetrievalQA\n",
    "from langchain.chat_models import ChatOpenAI\n",
    "from langchain.document_loaders import CSVLoader\n",
    "from langchain.vectorstores import DocArrayInMemorySearch\n",
    "from IPython.display import display, Markdown"
   ]
  },
  {
   "cell_type": "code",
   "execution_count": 15,
   "id": "7249846e",
   "metadata": {
    "height": 46
   },
   "outputs": [],
   "source": [
    "file = 'OutdoorClothingCatalog_1000.csv'\n",
    "loader = CSVLoader(file_path=file)"
   ]
  },
  {
   "cell_type": "code",
   "execution_count": 16,
   "id": "5bfaba30",
   "metadata": {
    "height": 29
   },
   "outputs": [],
   "source": [
    "from langchain.indexes import VectorstoreIndexCreator"
   ]
  },
  {
   "cell_type": "code",
   "execution_count": 5,
   "id": "9b5ab657",
   "metadata": {
    "height": 29
   },
   "outputs": [],
   "source": [
    "#pip install docarray"
   ]
  },
  {
   "cell_type": "code",
   "execution_count": 39,
   "id": "9e200726",
   "metadata": {
    "height": 63
   },
   "outputs": [
    {
     "name": "stderr",
     "output_type": "stream",
     "text": [
      "100%|██████████| 1/1 [00:01<00:00,  1.08s/it]\n"
     ]
    }
   ],
   "source": [
    "index = VectorstoreIndexCreator(\n",
    "    vectorstore_cls=DocArrayInMemorySearch\n",
    ").from_loaders([loader])"
   ]
  },
  {
   "cell_type": "code",
   "execution_count": 49,
   "id": "34562d81",
   "metadata": {
    "height": 46
   },
   "outputs": [],
   "source": [
    "query =\"Please list what hoodies you have \\\n",
    "in a table in markdown \""
   ]
  },
  {
   "cell_type": "code",
   "execution_count": 50,
   "id": "cfd0cc37",
   "metadata": {
    "height": 29
   },
   "outputs": [],
   "source": [
    "response = index.query(query)"
   ]
  },
  {
   "cell_type": "code",
   "execution_count": 51,
   "id": "ae21f1ff",
   "metadata": {
    "height": 29,
    "scrolled": true
   },
   "outputs": [
    {
     "data": {
      "text/markdown": [
       " \n",
       "\n",
       "| Name | Brand | Size |\n",
       "|------|-------|------|\n",
       "| Mens WordPress Hoodie | WordPress | Large, Medium |\n",
       "| Purple Divi Engine Text Zipper Hoodie | Divi Engine |  |"
      ],
      "text/plain": [
       "<IPython.core.display.Markdown object>"
      ]
     },
     "metadata": {},
     "output_type": "display_data"
    }
   ],
   "source": [
    "display(Markdown(response))"
   ]
  },
  {
   "cell_type": "code",
   "execution_count": 52,
   "id": "631396c6",
   "metadata": {
    "height": 29
   },
   "outputs": [],
   "source": [
    "loader = CSVLoader(file_path=file)"
   ]
  },
  {
   "cell_type": "code",
   "execution_count": 53,
   "id": "6c2164b5",
   "metadata": {
    "height": 29
   },
   "outputs": [],
   "source": [
    "docs = loader.load()"
   ]
  },
  {
   "cell_type": "code",
   "execution_count": 54,
   "id": "4a977f44",
   "metadata": {
    "height": 29
   },
   "outputs": [
    {
     "data": {
      "text/plain": [
       "Document(page_content='ID: 66\\nType: simple\\nSKU: \\nName: Divi Engine String Bag (Big Logo)\\nPublished: 1\\nIs featured?: 0\\nVisibility in catalog: visible\\nShort description: This fashionable string bag is made of 100% cotton. It is the perfect size for carrying your everyday essentials.\\nDescription: \\nDate sale price starts: \\nDate sale price ends: \\nTax status: taxable\\nTax class: \\nIn stock?: 1\\nStock: \\nLow stock amount: \\nBackorders allowed?: 0\\nSold individually?: 0\\nWeight (kg): \\nLength (cm): \\nWidth (cm): \\nHeight (cm): \\nAllow customer reviews?: 1\\nPurchase note: \\nSale price: \\nRegular price: 19.99\\nCategories: Accessories\\nTags: \\nShipping class: \\nImages: https://ajax-filters-bc.diviengine.com/sampledata/images/Bag1.jpg, https://ajax-filters-bc.diviengine.com/sampledata/images/Bag1-1.jpg, https://ajax-filters-bc.diviengine.com/sampledata/images/Bag1-2.jpg\\nDownload limit: \\nDownload expiry days: \\nParent: \\nGrouped products: \\nUpsells: \\nCross-sells: \\nExternal URL: \\nButton text: \\nPosition: 0\\nAttribute 1 name: Brand\\nAttribute 1 value(s): Divi Engine\\nAttribute 1 visible: 1\\nAttribute 1 global: 1\\nMeta: _et_pb_post_hide_nav: default\\nMeta: _et_pb_page_layout: et_right_sidebar\\nMeta: _et_pb_side_nav: off\\nMeta: _et_pb_use_builder: \\nMeta: _et_pb_first_image: \\nMeta: _et_pb_truncate_post: \\nMeta: _et_pb_truncate_post_date: \\nMeta: _et_pb_old_content: \\nAttribute 1 default: \\nAttribute 2 name: \\nAttribute 2 value(s): \\nAttribute 2 visible: \\nAttribute 2 global: \\nAttribute 2 default: \\nAttribute 3 name: \\nAttribute 3 value(s): \\nAttribute 3 visible: \\nAttribute 3 global: \\nAttribute 3 default: ', metadata={'source': 'OutdoorClothingCatalog_1000.csv', 'row': 0})"
      ]
     },
     "execution_count": 54,
     "metadata": {},
     "output_type": "execute_result"
    }
   ],
   "source": [
    "docs[0]"
   ]
  },
  {
   "cell_type": "code",
   "execution_count": 55,
   "id": "e875693a",
   "metadata": {
    "height": 46
   },
   "outputs": [],
   "source": [
    "from langchain.embeddings import OpenAIEmbeddings\n",
    "embeddings = OpenAIEmbeddings()"
   ]
  },
  {
   "cell_type": "code",
   "execution_count": 56,
   "id": "779bec75",
   "metadata": {
    "height": 29
   },
   "outputs": [],
   "source": [
    "embed = embeddings.embed_query(\"Hi my name is Harrison\")"
   ]
  },
  {
   "cell_type": "code",
   "execution_count": 57,
   "id": "699aaaf9",
   "metadata": {
    "height": 29
   },
   "outputs": [
    {
     "name": "stdout",
     "output_type": "stream",
     "text": [
      "1536\n"
     ]
    }
   ],
   "source": [
    "print(len(embed))"
   ]
  },
  {
   "cell_type": "code",
   "execution_count": 58,
   "id": "9d00d346",
   "metadata": {
    "height": 29
   },
   "outputs": [
    {
     "name": "stdout",
     "output_type": "stream",
     "text": [
      "[-0.021913960576057434, 0.006774206645786762, -0.018190348520874977, -0.039148248732089996, -0.014089343138039112]\n"
     ]
    }
   ],
   "source": [
    "print(embed[:5])"
   ]
  },
  {
   "cell_type": "code",
   "execution_count": 59,
   "id": "27ad0bb0",
   "metadata": {
    "height": 80
   },
   "outputs": [
    {
     "name": "stderr",
     "output_type": "stream",
     "text": [
      "100%|██████████| 1/1 [00:00<00:00,  1.10it/s]\n"
     ]
    }
   ],
   "source": [
    "db = DocArrayInMemorySearch.from_documents(\n",
    "    docs, \n",
    "    embeddings\n",
    ")"
   ]
  },
  {
   "cell_type": "code",
   "execution_count": 60,
   "id": "0329bfd5",
   "metadata": {
    "height": 29
   },
   "outputs": [],
   "source": [
    "query = \"Please suggest a shirt with sunblocking\""
   ]
  },
  {
   "cell_type": "code",
   "execution_count": 61,
   "id": "7909c6b7",
   "metadata": {
    "height": 29
   },
   "outputs": [],
   "source": [
    "docs = db.similarity_search(query)"
   ]
  },
  {
   "cell_type": "code",
   "execution_count": 62,
   "id": "43321853",
   "metadata": {
    "height": 29
   },
   "outputs": [
    {
     "data": {
      "text/plain": [
       "4"
      ]
     },
     "execution_count": 62,
     "metadata": {},
     "output_type": "execute_result"
    }
   ],
   "source": [
    "len(docs)"
   ]
  },
  {
   "cell_type": "code",
   "execution_count": 63,
   "id": "6eba90b5",
   "metadata": {
    "height": 29
   },
   "outputs": [
    {
     "data": {
      "text/plain": [
       "Document(page_content='ID: 89\\nType: variable\\nSKU: \\nName: Divi Engine Tee\\nPublished: 1\\nIs featured?: 0\\nVisibility in catalog: visible\\nShort description: This comfortable cotton t-shirt that features the Divi Engine logo on the front is perfect for any occasion. The shirt is available in three colors.\\nDescription: \\nDate sale price starts: \\nDate sale price ends: \\nTax status: taxable\\nTax class: \\nIn stock?: 1\\nStock: \\nLow stock amount: \\nBackorders allowed?: 0\\nSold individually?: 0\\nWeight (kg): \\nLength (cm): \\nWidth (cm): \\nHeight (cm): \\nAllow customer reviews?: 1\\nPurchase note: \\nSale price: \\nRegular price: \\nCategories: Men, Men > Shirts\\nTags: \\nShipping class: \\nImages: https://ajax-filters-bc.diviengine.com/sampledata/images/Shirt-3-yellow-front.jpg, https://ajax-filters-bc.diviengine.com/sampledata/images/Shirt-3-blue-front.jpg, https://ajax-filters-bc.diviengine.com/sampledata/images/Shirt-3-white-front.jpg\\nDownload limit: \\nDownload expiry days: \\nParent: \\nGrouped products: \\nUpsells: \\nCross-sells: \\nExternal URL: \\nButton text: \\nPosition: 0\\nAttribute 1 name: Brand\\nAttribute 1 value(s): Divi Engine\\nAttribute 1 visible: 1\\nAttribute 1 global: 1\\nMeta: _et_pb_post_hide_nav: default\\nMeta: _et_pb_page_layout: et_right_sidebar\\nMeta: _et_pb_side_nav: off\\nMeta: _et_pb_use_builder: \\nMeta: _et_pb_first_image: \\nMeta: _et_pb_truncate_post: \\nMeta: _et_pb_truncate_post_date: \\nMeta: _et_pb_old_content: \\nAttribute 1 default: \\nAttribute 2 name: Color\\nAttribute 2 value(s): Blue, White, Yellow\\nAttribute 2 visible: 1\\nAttribute 2 global: 1\\nAttribute 2 default: Yellow\\nAttribute 3 name: Size\\nAttribute 3 value(s): Large, Medium, Small\\nAttribute 3 visible: 1\\nAttribute 3 global: 1\\nAttribute 3 default: Large', metadata={'source': 'OutdoorClothingCatalog_1000.csv', 'row': 8})"
      ]
     },
     "execution_count": 63,
     "metadata": {},
     "output_type": "execute_result"
    }
   ],
   "source": [
    "docs[0]"
   ]
  },
  {
   "cell_type": "code",
   "execution_count": 64,
   "id": "c0c3596e",
   "metadata": {
    "height": 29
   },
   "outputs": [],
   "source": [
    "retriever = db.as_retriever()"
   ]
  },
  {
   "cell_type": "code",
   "execution_count": 65,
   "id": "0625f5e8",
   "metadata": {
    "height": 46
   },
   "outputs": [],
   "source": [
    "llm = ChatOpenAI(temperature = 0.0)\n"
   ]
  },
  {
   "cell_type": "code",
   "execution_count": 66,
   "id": "a573f58a",
   "metadata": {
    "height": 46
   },
   "outputs": [],
   "source": [
    "qdocs = \"\".join([docs[i].page_content for i in range(len(docs))])\n"
   ]
  },
  {
   "cell_type": "code",
   "execution_count": 67,
   "id": "14682d95",
   "metadata": {
    "height": 63
   },
   "outputs": [],
   "source": [
    "response = llm.call_as_llm(f\"{qdocs} Question: Please list all your \\\n",
    "shirts with sun protection in a table in markdown and summarize each one.\") \n"
   ]
  },
  {
   "cell_type": "code",
   "execution_count": 68,
   "id": "8bba545b",
   "metadata": {
    "height": 29
   },
   "outputs": [
    {
     "data": {
      "text/markdown": [
       "| ID | Name                  | Description                                                                                                 |\n",
       "|----|-----------------------|-------------------------------------------------------------------------------------------------------------|\n",
       "| 89 | Divi Engine Tee       | This comfortable cotton t-shirt features the Divi Engine logo on the front. Available in three colors.       |\n",
       "| 105| Divi Tee              | This comfortable cotton t-shirt features the Divi logo on the front and back.                                 |\n",
       "| 151| Divi Simplified Crop-top | This comfortable cotton crop-top features the Divi and Divi Engine logos on the front and back.              |\n",
       "| 111| WordPress Tee         | This comfortable cotton t-shirt features the WordPress logo on the front and back.                            |\n",
       "\n",
       "Each shirt is made of comfortable cotton and is suitable for any occasion. The Divi Engine Tee features the Divi Engine logo on the front and is available in three colors. The Divi Tee features the Divi logo on the front and back. The Divi Simplified Crop-top features both the Divi and Divi Engine logos on the front and back. The WordPress Tee features the WordPress logo on the front and back."
      ],
      "text/plain": [
       "<IPython.core.display.Markdown object>"
      ]
     },
     "metadata": {},
     "output_type": "display_data"
    }
   ],
   "source": [
    "display(Markdown(response))"
   ]
  },
  {
   "cell_type": "code",
   "execution_count": 69,
   "id": "32c94d22",
   "metadata": {
    "height": 114
   },
   "outputs": [],
   "source": [
    "qa_stuff = RetrievalQA.from_chain_type(\n",
    "    llm=llm, \n",
    "    chain_type=\"stuff\", \n",
    "    retriever=retriever, \n",
    "    verbose=True\n",
    ")"
   ]
  },
  {
   "cell_type": "code",
   "execution_count": 70,
   "id": "e4769316",
   "metadata": {
    "height": 46
   },
   "outputs": [],
   "source": [
    "query =  \"Please list all your shirts with sun protection in a table \\\n",
    "in markdown and summarize each one.\""
   ]
  },
  {
   "cell_type": "code",
   "execution_count": 71,
   "id": "1fc3c2f3",
   "metadata": {
    "height": 29
   },
   "outputs": [
    {
     "name": "stdout",
     "output_type": "stream",
     "text": [
      "\n",
      "\n",
      "\u001b[1m> Entering new  chain...\u001b[0m\n",
      "\n",
      "\u001b[1m> Finished chain.\u001b[0m\n"
     ]
    }
   ],
   "source": [
    "response = qa_stuff.run(query)"
   ]
  },
  {
   "cell_type": "code",
   "execution_count": 72,
   "id": "fba1a5db",
   "metadata": {
    "height": 29
   },
   "outputs": [
    {
     "data": {
      "text/markdown": [
       "I'm sorry, but I don't have any information about sun protection for the shirts."
      ],
      "text/plain": [
       "<IPython.core.display.Markdown object>"
      ]
     },
     "metadata": {},
     "output_type": "display_data"
    }
   ],
   "source": [
    "display(Markdown(response))"
   ]
  },
  {
   "cell_type": "code",
   "execution_count": 73,
   "id": "500ec062",
   "metadata": {
    "height": 29
   },
   "outputs": [],
   "source": [
    "response = index.query(query, llm=llm)"
   ]
  },
  {
   "cell_type": "code",
   "execution_count": 74,
   "id": "2cffb19f",
   "metadata": {
    "height": 80
   },
   "outputs": [
    {
     "name": "stderr",
     "output_type": "stream",
     "text": [
      "100%|██████████| 1/1 [00:01<00:00,  1.11s/it]\n"
     ]
    }
   ],
   "source": [
    "index = VectorstoreIndexCreator(\n",
    "    vectorstore_cls=DocArrayInMemorySearch,\n",
    "    embedding=embeddings,\n",
    ").from_loaders([loader])"
   ]
  },
  {
   "cell_type": "code",
   "execution_count": null,
   "id": "a9b58916",
   "metadata": {
    "height": 29
   },
   "outputs": [],
   "source": []
  },
  {
   "cell_type": "code",
   "execution_count": null,
   "id": "d590b337",
   "metadata": {
    "height": 29
   },
   "outputs": [],
   "source": []
  },
  {
   "cell_type": "code",
   "execution_count": null,
   "id": "b2cb587c",
   "metadata": {
    "height": 29
   },
   "outputs": [],
   "source": []
  },
  {
   "cell_type": "code",
   "execution_count": null,
   "id": "1ec249f1",
   "metadata": {
    "height": 29
   },
   "outputs": [],
   "source": []
  },
  {
   "cell_type": "code",
   "execution_count": null,
   "id": "9d64f166",
   "metadata": {
    "height": 29
   },
   "outputs": [],
   "source": []
  },
  {
   "cell_type": "code",
   "execution_count": null,
   "id": "21322e7e",
   "metadata": {
    "height": 29
   },
   "outputs": [],
   "source": []
  }
 ],
 "metadata": {
  "kernelspec": {
   "display_name": "Python 3 (ipykernel)",
   "language": "python",
   "name": "python3"
  },
  "language_info": {
   "codemirror_mode": {
    "name": "ipython",
    "version": 3
   },
   "file_extension": ".py",
   "mimetype": "text/x-python",
   "name": "python",
   "nbconvert_exporter": "python",
   "pygments_lexer": "ipython3",
   "version": "3.10.10"
  }
 },
 "nbformat": 4,
 "nbformat_minor": 5
}
